{
 "cells": [
  {
   "cell_type": "markdown",
   "metadata": {},
   "source": [
    "# 自然语言处理搜索引擎"
   ]
  },
  {
   "cell_type": "markdown",
   "metadata": {},
   "source": [
    "我们使用jieba中的ChineseAnalyzer来处理中文的文本；用whoosh这个包来建立索引。"
   ]
  },
  {
   "cell_type": "code",
   "execution_count": 32,
   "metadata": {
    "scrolled": true
   },
   "outputs": [],
   "source": [
    "from jieba.analyse.analyzer import ChineseAnalyzer\n",
    "from whoosh.fields import *\n",
    "import os.path\n",
    "from whoosh.index import create_in\n",
    "import os\n",
    "from whoosh.qparser import QueryParser\n",
    "from whoosh import scoring\n",
    "from whoosh import qparser"
   ]
  },
  {
   "cell_type": "markdown",
   "metadata": {},
   "source": [
    "创建中文分词分析器"
   ]
  },
  {
   "cell_type": "code",
   "execution_count": 33,
   "metadata": {},
   "outputs": [],
   "source": [
    "analyzer = ChineseAnalyzer()"
   ]
  },
  {
   "cell_type": "markdown",
   "metadata": {},
   "source": [
    "创建索引项"
   ]
  },
  {
   "cell_type": "code",
   "execution_count": 34,
   "metadata": {},
   "outputs": [],
   "source": [
    "schema = Schema(title = TEXT(stored = True) ,content = TEXT(stored = True,analyzer= analyzer))"
   ]
  },
  {
   "cell_type": "markdown",
   "metadata": {},
   "source": [
    "创建倒排索引，创建文件夹存放我们要生成的索引，然后打开文件材料为材料建立索引。"
   ]
  },
  {
   "cell_type": "code",
   "execution_count": 35,
   "metadata": {},
   "outputs": [],
   "source": [
    "index = create_in('.\\data\\index', schema)\n",
    "writer = index.writer()\n",
    "source_dir = '.\\data\\page'\n",
    "\n",
    "#get file name\n",
    "file_list = os.listdir(source_dir)\n",
    "\n",
    "words = set()\n",
    "for file_name in file_list:\n",
    "    content = ''\n",
    "    for line in open(source_dir + '\\\\' + file_name, encoding='utf-8', errors='ignore').readlines():\n",
    "        content += line\n",
    "    for i in  analyzer(content):\n",
    "        words.add(i.text)\n",
    "    writer.add_document(title = source_dir + '\\\\' + file_name, content = content)\n",
    "writer.commit()"
   ]
  },
  {
   "cell_type": "markdown",
   "metadata": {},
   "source": [
    "检索测试，在显示文档的时候，我们使用TF_IDF进行排序显示。"
   ]
  },
  {
   "cell_type": "markdown",
   "metadata": {},
   "source": [
    "**Test 1**"
   ]
  },
  {
   "cell_type": "code",
   "execution_count": 36,
   "metadata": {},
   "outputs": [
    {
     "name": "stdout",
     "output_type": "stream",
     "text": [
      "Rank:  1\n",
      "Path:  .\\data\\page\\22.txt\n",
      "Content 任大陆军总司令，发表《独立宣言》，宣布<b class=\"match term0\">美利</b>坚<b class=\"match term1\">合众</b>国正式成立。\n",
      " \n",
      "1783年独立战争...在世界的主权国家中又诞生一个新的独立国家——<b class=\"match term0\">美利</b>坚<b class=\"match term1\">合众</b>国；顶冠内有13颗白色五角星...武力。鹰嘴叼着的黄色绶带上用拉丁文写着“<b class=\"match term1\">合众</b>为一”，意为<b class=\"match term0\">美利</b>坚<b class=\"match term1\">合众</b>国由很多州组成，是一个完整的国家。\n",
      "美国\n",
      "Rank:  2\n",
      "Path:  .\\data\\page\\62.txt\n",
      "Content 费城(7张)\n",
      "\n",
      "\n",
      "\n",
      "\n",
      "\n",
      "\n",
      "宾大坐落于<b class=\"match term0\">美利</b>坚<b class=\"match term1\">合众</b>国的摇篮、美国第四大城市费城\n",
      "Rank:  3\n",
      "Path:  .\\data\\page\\98.txt\n",
      "Content 约翰逊曾经参加过第一次大陆会议并且被选为<b class=\"match term0\">美利</b>坚<b class=\"match term1\">合众</b>国制宪会议代表。十八世\n"
     ]
    }
   ],
   "source": [
    "searcher = index.searcher()\n",
    "parser = QueryParser('content', schema=index.schema)\n",
    "\n",
    "TF_IDF = index.searcher(weighting=scoring.TF_IDF())\n",
    "\n",
    "keyword = '美利坚合众国'\n",
    "q = parser.parse(keyword)\n",
    "results = TF_IDF.search(q, limit = 5)\n",
    "i = 1\n",
    "for hit in results:\n",
    "    print('Rank: ', i)\n",
    "    print('Path: ', hit['title'])\n",
    "    print('Content', hit.highlights(\"content\"))\n",
    "    i += 1"
   ]
  },
  {
   "cell_type": "markdown",
   "metadata": {},
   "source": [
    "**Test 2**"
   ]
  },
  {
   "cell_type": "code",
   "execution_count": 37,
   "metadata": {},
   "outputs": [
    {
     "name": "stdout",
     "output_type": "stream",
     "text": [
      "Rank:  1\n",
      "Path:  .\\data\\page\\176.txt\n",
      "Content 世纪初辛亥革命后，君主政体退出历史舞台，<b class=\"match term0\">共和</b>政体建立。1949年<b class=\"match term1\">中华人民共和国</b>成立后，在中国大陆建立了<b class=\"match term2\">人民</b>代表大会制度的政体。\n",
      "中国疆域...月1日在北京天安门广场举行开国大典，中央<b class=\"match term2\">人民</b>政府主席毛泽东宣告：<b class=\"match term1\">中华人民共和国</b>正式成立。\n",
      "建国之初，中国政府...年10月是“文化大革命”的十年，国家和<b class=\"match term2\">人民</b>遭受了建国以来最严重的挫折和损失。\n",
      "<b class=\"match term1\">中华人民共和国</b>主席习近平\n",
      "\n",
      "\n",
      "\n",
      "1976年10月\n",
      "Rank:  2\n",
      "Path:  .\\data\\page\\170.txt\n",
      "Content 部长\n",
      "刘延东\n",
      "中共十八届中央政治局委员、<b class=\"match term3\">中华人民共和</b>国国务院副总理\n",
      "杜青林...管理局局长\n",
      "梁国庆\n",
      "第十五届中央候补委员，<b class=\"match term1\">中华人民共和国</b>最高<b class=\"match term2\">人民</b>检察院常务副检察...副检察长（正部级）、一级大检查官\n",
      "奚晓明\n",
      "<b class=\"match term1\">中华人民共和国</b>最高<b class=\"match term2\">人民</b>法院副院长\n",
      "孙谦\n",
      "<b class=\"match term1\">中华人民共和国</b>最高<b class=\"match term2\">人民</b>检察院副检察长\n",
      "Rank:  3\n",
      "Path:  .\\data\\page\\79.txt\n",
      "Content 司法规范成立的有限责任公司或国际商业公司。\n",
      "《<b class=\"match term1\">中华人民共和国</b>公司法》\n",
      "最高<b class=\"match term2\">人民</b>法院关于适用《<b class=\"match term1\">中华人民共和国</b>公司法》若干问题的规定...公司\n",
      "最高<b class=\"match term2\">人民</b>法院关于适用《<b class=\"match term1\">中华人民共和国</b>公司法》若干问题的规定...<b class=\"match term1\">中华人民共和国</b>中外合作经营企业法\n",
      "<b class=\"match term1\">中华人民共和国</b>中外合资经营企业法\n",
      "Rank:  4\n",
      "Path:  .\\data\\page\\186.txt\n",
      "Content University），简称“清华”，由<b class=\"match term3\">中华人民共和</b>国教育部直属，中央...共招收四届学生1189人。\n",
      "四、走为<b class=\"match term2\">人民</b>服务的道路\n",
      "走为<b class=\"match term2\">人民</b>服务的道路(7张)\n",
      "\n",
      "\n",
      "\n",
      "\n",
      "\n",
      "\n",
      "解放初期，清华...有110篇。\n",
      "2、硕士教育\n",
      "清华大学根据《<b class=\"match term1\">中华人民共和国</b>学位条例》、《<b class=\"match term1\">中华人民共和国</b>学位条例暂行实施办法\n",
      "Rank:  5\n",
      "Path:  .\\data\\page\\28.txt\n",
      "Content University），简称“北大”，由<b class=\"match term3\">中华人民共和</b>国教育部直属，中央...图书馆\n",
      "北京大学图书馆\n",
      "\n",
      "北大图书馆是<b class=\"match term3\">中华人民共和</b>国国务院批准的首批...为港澳台各界提供智力支持，以帮助他们了解<b class=\"match term4\">中华</b>文化，争取他们对<b class=\"match term1\">中华人民共和国</b>的认同感。\n",
      "教育基金会\n"
     ]
    }
   ],
   "source": [
    "keyword = '中华人民共和国'\n",
    "q = parser.parse(keyword)\n",
    "results = TF_IDF.search(q, limit = 5)\n",
    "i = 1\n",
    "for hit in results:\n",
    "    print('Rank: ', i)\n",
    "    print('Path: ', hit['title'])\n",
    "    print('Content', hit.highlights(\"content\"))\n",
    "    i += 1"
   ]
  },
  {
   "cell_type": "markdown",
   "metadata": {},
   "source": [
    "下面在搜索的功能基础上加上拼写检查功能。"
   ]
  },
  {
   "cell_type": "code",
   "execution_count": 31,
   "metadata": {},
   "outputs": [
    {
     "name": "stdout",
     "output_type": "stream",
     "text": [
      "keyword:  美利坚合国\n",
      "Do you mean?\n",
      "1.美利坚\n",
      "2.美利坚合众国\n",
      "\n",
      "Use '美利坚' to search\n",
      "Rank:  1\n",
      "Path:  .\\data\\page\\22.txt\n",
      "Content <b class=\"match term0\">美利</b>坚合众国（英语：United...并取得胜利的13个州，50颗五角星代表<b class=\"match term0\">美利</b>坚合众国的州数。\n",
      "1818年美国...在世界的主权国家中又诞生一个新的独立国家——<b class=\"match term0\">美利</b>坚合众国；顶冠内有13颗白色\n",
      "Rank:  2\n",
      "Path:  .\\data\\page\\44.txt\n",
      "Content 必须具有美国的“国民精神”，要每时每刻为<b class=\"match term1\">美利坚</b>的强大而自豪并为此尽责，还把不断涌入的新\n",
      "Rank:  3\n",
      "Path:  .\\data\\page\\62.txt\n",
      "Content 费城(7张)\n",
      "\n",
      "\n",
      "\n",
      "\n",
      "\n",
      "\n",
      "宾大坐落于<b class=\"match term0\">美利</b>坚合众国的摇篮、美国第四大城\n",
      "Rank:  4\n",
      "Path:  .\\data\\page\\98.txt\n",
      "Content 约翰逊曾经参加过第一次大陆会议并且被选为<b class=\"match term0\">美利</b>坚合众国制宪会议\n"
     ]
    }
   ],
   "source": [
    "keyword = '美利坚合国'\n",
    "without_word = False\n",
    "isuse = True\n",
    "\n",
    "query = qparser.QueryParser('content', index.schema)\n",
    "q = query.parse(keyword)\n",
    "print('keyword: ', keyword)\n",
    "if('content', keyword) not in q.all_terms():\n",
    "    correct_words = TF_IDF.corrector('content')\n",
    "    print('Do you mean?')\n",
    "    for i, suggest in enumerate(correct_words.suggest(keyword, limit = 5)):\n",
    "        print('{}.{}'.format(i+1, suggest))\n",
    "    \n",
    "keyword = correct_words.suggest(keyword, limit = 5)[0]\n",
    "print('\\nUse \\'{}\\' to search'.format(keyword))\n",
    "q = query.parse(keyword)\n",
    "results = TF_IDF.search(q, limit = 5)\n",
    "\n",
    "i = 1\n",
    "for hit in results:\n",
    "    print('Rank: ', i)\n",
    "    print('Path: ', hit['title'])\n",
    "    print('Content', hit.highlights(\"content\"))\n",
    "    i += 1"
   ]
  },
  {
   "cell_type": "code",
   "execution_count": null,
   "metadata": {},
   "outputs": [],
   "source": []
  }
 ],
 "metadata": {
  "kernelspec": {
   "display_name": "Python 3",
   "language": "python",
   "name": "python3"
  },
  "language_info": {
   "codemirror_mode": {
    "name": "ipython",
    "version": 3
   },
   "file_extension": ".py",
   "mimetype": "text/x-python",
   "name": "python",
   "nbconvert_exporter": "python",
   "pygments_lexer": "ipython3",
   "version": "3.7.1"
  }
 },
 "nbformat": 4,
 "nbformat_minor": 2
}
