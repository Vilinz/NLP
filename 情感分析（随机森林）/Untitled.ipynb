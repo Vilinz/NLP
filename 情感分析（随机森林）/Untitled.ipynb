{
 "cells": [
  {
   "cell_type": "code",
   "execution_count": 18,
   "metadata": {},
   "outputs": [
    {
     "name": "stdout",
     "output_type": "stream",
     "text": [
      "My sister has a dog. She loves him.\n",
      "  [My sister: [My sister, She], a dog: [a dog, him]]\n",
      "Some like to play football, others are fond of basketball.\n",
      "  No coref!\n",
      "The more a man knows, the more he feels his ignorance.\n",
      "  [The: [The, the], a man: [a man, he, his]]\n"
     ]
    }
   ],
   "source": [
    "import spacy\n",
    "import neuralcoref\n",
    "\n",
    "nlp = spacy.load('en') \n",
    "neuralcoref.add_to_pipe(nlp)\n",
    "text = [u'My sister has a dog. She loves him.',\n",
    "        u'Some like to play football, others are fond of basketball.',\n",
    "        u'The more a man knows, the more he feels his ignorance.']\n",
    "\n",
    "for t in text:\n",
    "    t = nlp(t)\n",
    "    print(t)\n",
    "    if t._.has_coref:\n",
    "        print(' ',t._.coref_clusters)\n",
    "    else:\n",
    "        print('  No coref!')"
   ]
  },
  {
   "cell_type": "code",
   "execution_count": 1,
   "metadata": {},
   "outputs": [
    {
     "name": "stdout",
     "output_type": "stream",
     "text": [
      "句子：My sister has a dog. She loves him.\n",
      "是否存在共指指代：True\n",
      "共指链为：\n",
      "[My sister: [My sister, She], a dog: [a dog, him]]\n",
      "句子：Some like to play football, others are fond of basketball.\n",
      "是否存在共指指代：False\n",
      "句子：The more a man knows, the more he feels his ignorance.\n",
      "是否存在共指指代：True\n",
      "共指链为：\n",
      "[The: [The, the], a man: [a man, he, his]]\n"
     ]
    }
   ],
   "source": [
    "import spacy\n",
    "nlp = spacy.load('en_core_web_sm')\n",
    "\n",
    "# Add neural coref to SpaCy's pipe\n",
    "import neuralcoref\n",
    "neuralcoref.add_to_pipe(nlp)\n",
    "\n",
    "def task():\n",
    "\tsentences = [\n",
    "\t\t'My sister has a dog. She loves him.',\n",
    "\t\t'Some like to play football, others are fond of basketball.',\n",
    "\t\t'The more a man knows, the more he feels his ignorance.'\n",
    "\t]\n",
    "\tfor sentence in sentences:\n",
    "\t\tdoc = nlp(sentence)\n",
    "\t\tis_has_coref = doc._.has_coref\n",
    "\t\tprint('句子：' + sentence)\n",
    "\t\tprint('是否存在共指指代：', end='')\n",
    "\t\tprint(is_has_coref)\n",
    "\t\tif is_has_coref:\n",
    "\t\t\tprint('共指链为：')\n",
    "\t\t\tprint(doc._.coref_clusters)\n",
    "\n",
    "def main():\n",
    "\ttask()\n",
    "\n",
    "if __name__ == '__main__':\n",
    "\tmain()"
   ]
  },
  {
   "cell_type": "code",
   "execution_count": null,
   "metadata": {},
   "outputs": [],
   "source": []
  }
 ],
 "metadata": {
  "kernelspec": {
   "display_name": "Python 3",
   "language": "python",
   "name": "python3"
  },
  "language_info": {
   "codemirror_mode": {
    "name": "ipython",
    "version": 3
   },
   "file_extension": ".py",
   "mimetype": "text/x-python",
   "name": "python",
   "nbconvert_exporter": "python",
   "pygments_lexer": "ipython3",
   "version": "3.7.1"
  }
 },
 "nbformat": 4,
 "nbformat_minor": 2
}
